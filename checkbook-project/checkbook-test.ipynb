{
 "cells": [
  {
   "cell_type": "code",
   "execution_count": null,
   "id": "daac4e5a",
   "metadata": {},
   "outputs": [],
   "source": [
    "\n",
    "\n",
    "print(\"What would you like to do?\\n1) View current balance\\n\"\n",
    "        \"2) Record a debit (withdraw)\\n3) Record a credit (deposit)\\n4) Exit\\n\")\n",
    "\n",
    "checkbook_options = ('1', '2', 3, 4)\n",
    "user = int(input('Enter a choice: '))\n",
    "\n",
    "while user in checkbook_options:\n",
    "    if user != checkbook_options:\n",
    "        print(\"Your choice is: \", user)\n",
    "        print(\"Invalid choice: \", user)\n",
    "        break\n",
    "    if user == \"1\":\n",
    "        print(\"View current balance\")\n",
    "        print(\"\")\n",
    "        break\n",
    "    elif user == \"2\":\n",
    "        print(\"Record a debit (withdraw)\")\n",
    "        print(\"\")\n",
    "        break\n",
    "    elif user == 3:\n",
    "        print(\"Record a credit (deposit)\")\n",
    "        print(\"\")\n",
    "        break\n",
    "    elif user == 4:\n",
    "        print(\"Exit\")\n",
    "        print(\"\")\n",
    "        break\n"
   ]
  },
  {
   "cell_type": "code",
   "execution_count": null,
   "id": "4612ec62",
   "metadata": {},
   "outputs": [],
   "source": [
    "user_choice"
   ]
  },
  {
   "cell_type": "code",
   "execution_count": null,
   "id": "d4fd9d33",
   "metadata": {},
   "outputs": [],
   "source": [
    "checkbook_options = ('1', '2', '3', '4')\n",
    "\n",
    "def main():\n",
    "    # User account options.\n",
    "    def user_choice():\n",
    "\n",
    "        print(\"What would you like to do?\\n1) View current balance\\n\"\n",
    "        \"2) Record a debit (withdraw)\\n3) Record a credit (deposit)\\n4) Exit\\n\")\n",
    "\n",
    "        user = None\n",
    "        while user in checkbook_options:\n",
    "            user = int(input('Enter a choice: '))\n",
    "        return user\n",
    "\n",
    "    # Find the correct choice\n",
    "    def options():\n",
    "        money = True\n",
    "        while money:\n",
    "            user = user_choice()\n",
    "            if user != checkbook_options:\n",
    "                print(\"Your choice is: \", user)\n",
    "                print(\"Invalid choice: \", user)\n",
    "            if user == '1':\n",
    "                print(\"View current balance\\n\")\n",
    "                break\n",
    "            elif user == '2':\n",
    "                print(\"Record a debit (withdraw)\\n\")\n",
    "                break\n",
    "            elif user == '3':\n",
    "                print(\"Record a credit (deposit)\\n\")\n",
    "                break\n",
    "            elif user == '4':\n",
    "                print(\"Exit\\n\")\n",
    "                break\n",
    "        return money\n",
    "    main()"
   ]
  },
  {
   "cell_type": "code",
   "execution_count": null,
   "id": "2df688c7",
   "metadata": {},
   "outputs": [],
   "source": []
  },
  {
   "cell_type": "code",
   "execution_count": null,
   "id": "f340e8c0",
   "metadata": {},
   "outputs": [],
   "source": [
    "import random\n",
    "\n",
    "\n",
    "# Game option for the Rock, Paper and Scissors game.\n",
    "game_options = (\"rock\", \"paper\", \"scissors\")\n",
    "game_options_2 = (\"y\", \"n\")\n",
    "continue_playing = True\n",
    "\n",
    "\n",
    "while continue_playing:\n",
    "\n",
    "    def main():\n",
    "        winner()\n",
    "\n",
    "    # User turn to choose one of the three options.\n",
    "    def user_choice():\n",
    "        player = None\n",
    "        while player not in game_options:\n",
    "            player = input('Enter your choice of \"Rock\", \"Paper\", or \"Scissors\": ').lower()\n",
    "        return player\n",
    "\n",
    "    # The computer chooses at random from the three predetermine game options.\n",
    "    def computer_choice():\n",
    "        computer = random.choice(game_options)\n",
    "        print(\"The computer's selected:\", computer)\n",
    "        print('')\n",
    "        return computer\n",
    "\n",
    "    # Find the winner based on the user choice and computer choice\n",
    "    def winner():\n",
    "        champ = True\n",
    "        while champ:\n",
    "            player = user_choice()\n",
    "            computer = computer_choice()\n",
    "            if player == computer:\n",
    "                print(\"It's a draw! Play until there is a Winner!\")\n",
    "            if player == \"rock\" and computer == \"scissors\":\n",
    "                print(\"Rock smashes scissors. You WIN!\")\n",
    "                print(\"\")\n",
    "                break\n",
    "            elif player == \"scissors\" and computer == \"paper\":\n",
    "                print(\"Scissors cuts paper. You WIN!\")\n",
    "                print(\"\")\n",
    "                break\n",
    "            elif player == \"paper\" and computer == \"rock\":\n",
    "                print(\"Paper wraps rock. You WIN!\")\n",
    "                print(\"\")\n",
    "                break\n",
    "            elif computer == \"rock\" and player == \"scissors\":\n",
    "                print(\"Rock smashes scissors. The computer WINS!\")\n",
    "                print(\"\")\n",
    "                break\n",
    "            elif computer == \"scissors\" and player == \"paper\":\n",
    "                print(\"Scissors cuts paper. The computer WINS!\")\n",
    "                print(\"\")\n",
    "                break\n",
    "            elif computer == \"paper\" and player == \"rock\":\n",
    "                print(\"Paper wraps rock. The computer WINS! \")\n",
    "                print(\"\")\n",
    "                break\n",
    "        return champ\n",
    "\n",
    "\n",
    "    # Call the main function\n",
    "    main()\n",
    "    play_again = None\n",
    "    while play_again not in game_options_2:\n",
    "        play_again = input(\"Do you want to play again? (y/n): \").lower()\n",
    "        if not play_again == \"y\":\n",
    "            continue_playing = False\n",
    "            print('Thank you for playing!')"
   ]
  },
  {
   "cell_type": "code",
   "execution_count": null,
   "id": "da9f30ee",
   "metadata": {},
   "outputs": [],
   "source": [
    "checkbook_options = ('1', '2', '3', '4')\n",
    "\n",
    "def main():\n",
    "    # User account options.\n",
    "    def user_choice():\n",
    "\n",
    "        print(\"What would you like to do?\\n1) View current balance\\n\"\n",
    "        \"2) Record a debit (withdraw)\\n3) Record a credit (deposit)\\n4) Exit\\n\")\n",
    "\n",
    "        user = None\n",
    "        while user in checkbook_options:\n",
    "            user = int(input('Enter a choice: '))\n",
    "        return user\n",
    "\n",
    "    # Find the correct choice\n",
    "    def options():\n",
    "        money = True\n",
    "        while money:\n",
    "            user = user_choice()\n",
    "            if user != checkbook_options:\n",
    "                print(\"Your choice is: \", user)\n",
    "                print(\"Invalid choice: \", user)\n",
    "            if user == '1':\n",
    "                print(\"View current balance\\n\")\n",
    "                break\n",
    "            elif user == '2':\n",
    "                print(\"Record a debit (withdraw)\\n\")\n",
    "                break\n",
    "            elif user == '3':\n",
    "                print(\"Record a credit (deposit)\\n\")\n",
    "                break\n",
    "            elif user == '4':\n",
    "                print(\"Exit\\n\")\n",
    "                break\n",
    "        return money\n",
    "    main()"
   ]
  },
  {
   "cell_type": "code",
   "execution_count": 4,
   "id": "2207d575",
   "metadata": {},
   "outputs": [
    {
     "name": "stdout",
     "output_type": "stream",
     "text": [
      "What would you like to do?\n",
      "1) View current balance\n",
      "2) Record a debit (withdraw)\n",
      "3) Record a credit (deposit)\n",
      "4) Exit\n",
      "\n",
      "Enter a choice: h\n",
      "\n",
      "Your choice is:  h\n",
      "Invalid choice:  h\n",
      "\n",
      "What would you like to do?\n",
      "1) View current balance\n",
      "2) Record a debit (withdraw)\n",
      "3) Record a credit (deposit)\n",
      "4) Exit\n",
      "\n",
      "Enter a choice: 1\n",
      "\n",
      "Your choice is:  1\n",
      "View current balance\n",
      "\n"
     ]
    }
   ],
   "source": [
    "checkbook_options = ('1', '2', '3', '4')\n",
    "\n",
    "def main():\n",
    "    options()\n",
    "    \n",
    "def user_choice():\n",
    "    print(\"What would you like to do?\\n1) View current balance\\n\"\n",
    "  \"2) Record a debit (withdraw)\\n3) Record a credit (deposit)\\n4) Exit\\n\")\n",
    "    user = input('Enter a choice: ')\n",
    "    print('')\n",
    "    print(\"Your choice is: \", user)\n",
    "        \n",
    "    while user not in checkbook_options:\n",
    "        print(\"Invalid choice: \", user)\n",
    "        print('')\n",
    "#         print(\"What would you like to do?\\n1) View current balance\\n\"\n",
    "#       \"2) Record a debit (withdraw)\\n3) Record a credit (deposit)\\n4) Exit\\n\")\n",
    "        user = input('Enter a choice: ')\n",
    "#         print('')\n",
    "        print(\"\\nYour choice is: \", user)\n",
    "    return user\n",
    "\n",
    "def options():\n",
    "    opt = True\n",
    "    while opt:\n",
    "        user = user_choice()\n",
    "        if user == '1':\n",
    "            print(\"View current balance\\n\")\n",
    "            break\n",
    "        elif user == '2':\n",
    "            print(\"Record a debit (withdraw)\\n\")\n",
    "            break\n",
    "        elif user == '3':\n",
    "            print(\"Record a credit (deposit)\\n\")\n",
    "            break\n",
    "        elif user == '4':\n",
    "            print(\"Exit\\n\")\n",
    "            break\n",
    "    return opt\n",
    "main()\n"
   ]
  },
  {
   "cell_type": "code",
   "execution_count": 4,
   "id": "7b5fea02",
   "metadata": {},
   "outputs": [
    {
     "data": {
      "text/plain": [
       "['checkbook-options',\n",
       " 'checkbook-options2.py',\n",
       " 'current_balance.txt',\n",
       " 'main-checkbook-project',\n",
       " 'checkbook-test.ipynb',\n",
       " '.ipynb_checkpoints']"
      ]
     },
     "execution_count": 4,
     "metadata": {},
     "output_type": "execute_result"
    }
   ],
   "source": [
    "# the imports needed for viewing the text file that contains the\n",
    "# current balance\n",
    "\n",
    "import os \n",
    "import subprocess\n",
    "\n",
    "# def view_curt_bal():\n",
    "    \n",
    "os.listdir()"
   ]
  },
  {
   "cell_type": "code",
   "execution_count": 8,
   "id": "d750e8e7",
   "metadata": {},
   "outputs": [],
   "source": [
    "with open('current_balance', 'w') as cb:\n",
    "    cb.write(str(0))"
   ]
  },
  {
   "cell_type": "code",
   "execution_count": 5,
   "id": "84bb64e0",
   "metadata": {},
   "outputs": [
    {
     "data": {
      "text/plain": [
       "['checkbook-options',\n",
       " 'checkbook-options2.py',\n",
       " 'current_balance.txt',\n",
       " 'main-checkbook-project',\n",
       " 'checkbook-test.ipynb',\n",
       " '.ipynb_checkpoints']"
      ]
     },
     "execution_count": 5,
     "metadata": {},
     "output_type": "execute_result"
    }
   ],
   "source": [
    "os.listdir()"
   ]
  },
  {
   "cell_type": "code",
   "execution_count": 10,
   "id": "87a6cb23",
   "metadata": {},
   "outputs": [],
   "source": [
    "os.remove('current_balance')"
   ]
  },
  {
   "cell_type": "code",
   "execution_count": 3,
   "id": "588e57f8",
   "metadata": {},
   "outputs": [
    {
     "ename": "NameError",
     "evalue": "name 'os' is not defined",
     "output_type": "error",
     "traceback": [
      "\u001b[0;31m---------------------------------------------------------------------------\u001b[0m",
      "\u001b[0;31mNameError\u001b[0m                                 Traceback (most recent call last)",
      "Input \u001b[0;32mIn [3]\u001b[0m, in \u001b[0;36m<cell line: 1>\u001b[0;34m()\u001b[0m\n\u001b[0;32m----> 1\u001b[0m \u001b[43mos\u001b[49m\u001b[38;5;241m.\u001b[39mlistdir()\n",
      "\u001b[0;31mNameError\u001b[0m: name 'os' is not defined"
     ]
    }
   ],
   "source": [
    "os.listdir()"
   ]
  },
  {
   "cell_type": "code",
   "execution_count": 6,
   "id": "092642cf",
   "metadata": {},
   "outputs": [],
   "source": [
    "with open('current_balance.txt', 'w') as cb:\n",
    "    cb.write(str(0))"
   ]
  },
  {
   "cell_type": "code",
   "execution_count": 4,
   "id": "9b246fb9",
   "metadata": {},
   "outputs": [
    {
     "data": {
      "text/plain": [
       "['checkbook-options',\n",
       " 'checkbook-options2.py',\n",
       " 'current_balance.txt',\n",
       " 'main-checkbook-project',\n",
       " 'checkbook-test.ipynb',\n",
       " '.ipynb_checkpoints']"
      ]
     },
     "execution_count": 4,
     "metadata": {},
     "output_type": "execute_result"
    }
   ],
   "source": [
    "os.listdir()"
   ]
  },
  {
   "cell_type": "code",
   "execution_count": 5,
   "id": "c9b55deb",
   "metadata": {},
   "outputs": [
    {
     "data": {
      "text/plain": [
       "CompletedProcess(args=['code', 'current_balance.txt'], returncode=0)"
      ]
     },
     "execution_count": 5,
     "metadata": {},
     "output_type": "execute_result"
    }
   ],
   "source": [
    "subprocess.run([\"code\", \"current_balance.txt\"])"
   ]
  },
  {
   "cell_type": "markdown",
   "id": "047e61e3",
   "metadata": {},
   "source": [
    "#### View current balance"
   ]
  },
  {
   "cell_type": "code",
   "execution_count": 7,
   "id": "6aee5ff1",
   "metadata": {},
   "outputs": [
    {
     "name": "stdout",
     "output_type": "stream",
     "text": [
      "0\n"
     ]
    }
   ],
   "source": [
    "with open('current_balance.txt') as cb:\n",
    "    current_balance = cb.read()\n",
    "    print(current_balance)"
   ]
  },
  {
   "cell_type": "code",
   "execution_count": null,
   "id": "1cdb0e5c",
   "metadata": {},
   "outputs": [
    {
     "name": "stdout",
     "output_type": "stream",
     "text": [
      "What would you like to do?\n",
      "1) View current balance\n",
      "2) Record a debit (withdraw)\n",
      "3) Record a credit (deposit)\n",
      "4) Exit\n",
      "\n",
      "Enter a choice: 1\n",
      "\n",
      "Your choice is:  1\n",
      "\n",
      "Current balance\n",
      "\n",
      "0\n",
      "What would you like to do?\n",
      "1) View current balance\n",
      "2) Record a debit (withdraw)\n",
      "3) Record a credit (deposit)\n",
      "4) Exit\n",
      "\n"
     ]
    }
   ],
   "source": [
    "import os \n",
    "import subprocess\n",
    "\n",
    "\n",
    "checkbook_options = ('1', '2', '3', '4')\n",
    "\n",
    "def main():\n",
    "    options()\n",
    "    \n",
    "def user_choice():\n",
    "    print(\"What would you like to do?\\n1) View current balance\\n\"\n",
    "  \"2) Record a debit (withdraw)\\n3) Record a credit (deposit)\\n4) Exit\\n\")\n",
    "    user = input('Enter a choice: ')\n",
    "    print('')\n",
    "    print(\"Your choice is: \", user)\n",
    "\n",
    "    while user not in checkbook_options:\n",
    "        print(\"Invalid choice: \", user)\n",
    "        print('')\n",
    "#         print(\"What would you like to do?\\n1) View current balance\\n\"\n",
    "#       \"2) Record a debit (withdraw)\\n3) Record a credit (deposit)\\n4) Exit\\n\")\n",
    "        user = input('Enter a choice: ')\n",
    "#         print('')\n",
    "        print(\"\\nYour choice is: \", user)\n",
    "    return user\n",
    "\n",
    "def options():\n",
    "    opt = True\n",
    "    while opt:\n",
    "        user = user_choice()\n",
    "        if user == '1':\n",
    "            print(\"\\nCurrent balance\\n\")\n",
    "            return view_curt_bal()\n",
    "        elif user == '2':\n",
    "            print(\"Record a debit (withdraw)\\n\")\n",
    "            break\n",
    "        elif user == '3':\n",
    "            print(\"Record a credit (deposit)\\n\")\n",
    "            break\n",
    "        elif user == '4':\n",
    "            print(\"Exit\\n\")\n",
    "            break\n",
    "    return opt\n",
    "\n",
    "def view_curt_bal():\n",
    "    with open('current_balance.txt') as cb:\n",
    "        current_balance = cb.read()\n",
    "        print(current_balance)\n",
    "        return user_choice()\n",
    "    \n",
    "main()"
   ]
  },
  {
   "cell_type": "code",
   "execution_count": null,
   "id": "45b2b665",
   "metadata": {},
   "outputs": [
    {
     "name": "stdout",
     "output_type": "stream",
     "text": [
      "\n",
      "What would you like to do?\n",
      "1) View current balance\n",
      "2) Record a debit (withdraw)\n",
      "3) Record a credit (deposit)\n",
      "4) Exit\n",
      "\n",
      "Enter a choice: 1\n",
      "\n",
      "Your choice is:  1\n",
      "\n",
      "Current balance\n",
      "0\n",
      "Do you want to return to main menu? (y/n): y\n",
      "Do you want to return to main menu? (y/n): y\n",
      "\n",
      "What would you like to do?\n",
      "1) View current balance\n",
      "2) Record a debit (withdraw)\n",
      "3) Record a credit (deposit)\n",
      "4) Exit\n",
      "\n"
     ]
    }
   ],
   "source": [
    "import os \n",
    "import subprocess\n",
    "\n",
    "\n",
    "checkbook_options = ('1', '2', '3', '4')\n",
    "conti_options = (\"y\", \"n\")\n",
    "main_menu = True\n",
    "\n",
    "while main_menu:\n",
    "\n",
    "    def main():\n",
    "        options()\n",
    "        another_trans()\n",
    "\n",
    "    def user_choice():\n",
    "        print(\"\\nWhat would you like to do?\\n1) View current balance\\n\"\n",
    "      \"2) Record a debit (withdraw)\\n3) Record a credit (deposit)\\n4) Exit\\n\")\n",
    "        user = input('Enter a choice: ')\n",
    "        print('')\n",
    "        print(\"Your choice is: \", user)\n",
    "\n",
    "        while user not in checkbook_options:\n",
    "            print(\"Invalid choice: \", user)\n",
    "            print('')\n",
    "    #         print(\"What would you like to do?\\n1) View current balance\\n\"\n",
    "    #       \"2) Record a debit (withdraw)\\n3) Record a credit (deposit)\\n4) Exit\\n\")\n",
    "            user = input('Enter a choice: ')\n",
    "    #         print('')\n",
    "            print(\"\\nYour choice is: \", user)\n",
    "        return user\n",
    "\n",
    "    def options():\n",
    "        opt = True\n",
    "        while opt:\n",
    "            user = user_choice()\n",
    "            if user == '1':\n",
    "                print(\"\\nCurrent balance\")\n",
    "                return view_curt_bal()\n",
    "            elif user == '2':\n",
    "                print(\"Record a debit (withdraw)\\n\")\n",
    "                break\n",
    "            elif user == '3':\n",
    "                print(\"Record a credit (deposit)\\n\")\n",
    "                break\n",
    "            elif user == '4':\n",
    "                print(\"Exit\\n\")\n",
    "                break\n",
    "        return opt\n",
    "\n",
    "    def view_curt_bal():\n",
    "        with open('current_balance.txt') as cb:\n",
    "            current_balance = cb.read()\n",
    "            print(current_balance)\n",
    "        return another_trans()\n",
    "    \n",
    "    main()\n",
    "    def another_trans():\n",
    "        transaction = None\n",
    "        while transaction not in conti_options:\n",
    "            transaction = input(\"Do you want to return to main menu? (y/n): \\n\").lower()\n",
    "            if not transaction == \"y\":\n",
    "                main_menu = False\n",
    "                print('Thank you, have a great day!')\n",
    "                "
   ]
  },
  {
   "cell_type": "code",
   "execution_count": null,
   "id": "9a47df8c",
   "metadata": {},
   "outputs": [],
   "source": []
  },
  {
   "cell_type": "code",
   "execution_count": 2,
   "id": "1c4e2be0",
   "metadata": {
    "scrolled": true
   },
   "outputs": [
    {
     "name": "stdout",
     "output_type": "stream",
     "text": [
      "What would you like to do?\n",
      "1) View current balance\n",
      "2) Record a debit (withdraw)\n",
      "3) Record a credit (deposit)\n",
      "4) Exit\n",
      "\n",
      "Enter a choice: 1\n",
      "\n",
      "Your choice is:  1\n",
      "\n",
      "Current balance\n",
      "\n",
      "0\n",
      "What would you like to do?\n",
      "1) View current balance\n",
      "2) Record a debit (withdraw)\n",
      "3) Record a credit (deposit)\n",
      "4) Exit\n",
      "\n",
      "Enter a choice: 1\n",
      "\n",
      "Your choice is:  1\n"
     ]
    },
    {
     "data": {
      "text/plain": [
       "'1'"
      ]
     },
     "execution_count": 2,
     "metadata": {},
     "output_type": "execute_result"
    }
   ],
   "source": [
    "options()"
   ]
  },
  {
   "cell_type": "code",
   "execution_count": 5,
   "id": "3795dcad",
   "metadata": {},
   "outputs": [],
   "source": [
    "def another_trans():\n",
    "    conti_options = (\"y\", \"n\")\n",
    "    main_menu = True\n",
    "\n",
    "    transaction = None\n",
    "    while transaction not in conti_options:\n",
    "        transaction = input(\"Do you want to return to main menu? (y/n): \").lower()\n",
    "        if not transaction == \"y\":\n",
    "            main_menu = False\n",
    "            print('Thank you, have a great day!')"
   ]
  },
  {
   "cell_type": "code",
   "execution_count": null,
   "id": "f1eb751c",
   "metadata": {},
   "outputs": [
    {
     "name": "stdout",
     "output_type": "stream",
     "text": [
      "\n",
      "What would you like to do?\n",
      "1) View current balance\n",
      "2) Record a debit (withdraw)\n",
      "3) Record a credit (deposit)\n",
      "4) Exit\n",
      "\n",
      "Enter a choice: h\n",
      "\n",
      "Your choice is:  h\n",
      "Invalid choice:  h\n",
      "\n",
      "Enter a choice: 1\n",
      "\n",
      "Your choice is:  1\n",
      "\n",
      "Current balance\n",
      "0\n",
      "\n",
      "What would you like to do?\n",
      "1) View current balance\n",
      "2) Record a debit (withdraw)\n",
      "3) Record a credit (deposit)\n",
      "4) Exit\n",
      "\n"
     ]
    }
   ],
   "source": [
    "import os \n",
    "import subprocess\n",
    "\n",
    "\n",
    "checkbook_options = ('1', '2', '3', '4')\n",
    "def user_choice():\n",
    "    print(\"\\nWhat would you like to do?\\n1) View current balance\\n\"\n",
    "  \"2) Record a debit (withdraw)\\n3) Record a credit (deposit)\\n4) Exit\\n\")\n",
    "    user = input('Enter a choice: ')\n",
    "    print('')\n",
    "    print(\"Your choice is: \", user)\n",
    "\n",
    "    while user not in checkbook_options:\n",
    "        print(\"Invalid choice: \", user)\n",
    "        print('')\n",
    "#         print(\"What would you like to do?\\n1) View current balance\\n\"\n",
    "#       \"2) Record a debit (withdraw)\\n3) Record a credit (deposit)\\n4) Exit\\n\")\n",
    "        user = input('Enter a choice: ')\n",
    "#         print('')\n",
    "        print(\"\\nYour choice is: \", user)\n",
    "    return user\n",
    "\n",
    "def view_curt_bal():\n",
    "    with open('current_balance.txt') as cb:\n",
    "        current_balance = cb.read()\n",
    "        print(current_balance)\n",
    "\n",
    "\n",
    "while main_menu:\n",
    "    user = user_choice()\n",
    "    if user == '1':\n",
    "        print(\"\\nCurrent balance\")\n",
    "        view_curt_bal()\n",
    "    elif user == '2':\n",
    "        print(\"Record a debit (withdraw)\\n\")\n",
    "        break\n",
    "    elif user == '3':\n",
    "        print(\"Record a credit (deposit)\\n\")\n",
    "        break\n",
    "    elif user == '4':\n",
    "        print(\"Exit\\n\")\n",
    "        break\n",
    "\n",
    "\n",
    "\n",
    "    \n",
    "\n"
   ]
  },
  {
   "cell_type": "code",
   "execution_count": null,
   "id": "be7a0820",
   "metadata": {},
   "outputs": [],
   "source": [
    "def debit():\n",
    "    with open('current_balance.txt') as cb:\n",
    "        current_balance = cb.read()\n",
    "        new_debit_balance = current_balance"
   ]
  },
  {
   "cell_type": "code",
   "execution_count": 4,
   "id": "7957a93a",
   "metadata": {},
   "outputs": [
    {
     "name": "stdout",
     "output_type": "stream",
     "text": [
      "075\n",
      "100\n"
     ]
    }
   ],
   "source": [
    "# this function is to just view what's in the text file\n",
    "\n",
    "import os \n",
    "import subprocess\n",
    "\n",
    "\n",
    "with open('current_balance.txt') as cb:\n",
    "    current_balance = cb.read()\n",
    "    print(current_balance)"
   ]
  },
  {
   "cell_type": "code",
   "execution_count": 34,
   "id": "0cd3c9ba",
   "metadata": {
    "scrolled": true
   },
   "outputs": [
    {
     "name": "stdout",
     "output_type": "stream",
     "text": [
      "80\n"
     ]
    }
   ],
   "source": [
    "# user = input('Enter new numeber: ')\n",
    "\n",
    "with open('current_balance.txt', 'r') as cb:\n",
    "    current_balance = cb.read()\n",
    "    current_balance.isdigit()\n",
    "#     print(current_balance.isdigit())\n",
    "    current_balance = int(current_balance)\n",
    "#     added_debit = cb.write(str(user))\n",
    "#     print(added_debit = cb.write(str(user)))\n",
    "    \n",
    "#     new_debit_balance = current_balance + added_debit\n",
    "#     print(new_debit_balance)\n",
    "    print(int(current_balance))"
   ]
  },
  {
   "cell_type": "code",
   "execution_count": 40,
   "id": "eff66240",
   "metadata": {
    "scrolled": true
   },
   "outputs": [
    {
     "name": "stdout",
     "output_type": "stream",
     "text": [
      "Enter a number: 60\n"
     ]
    }
   ],
   "source": [
    "user = int(input('Enter a number: '))"
   ]
  },
  {
   "cell_type": "code",
   "execution_count": 41,
   "id": "37ab337b",
   "metadata": {},
   "outputs": [],
   "source": [
    "new_balance = user + current_balance"
   ]
  },
  {
   "cell_type": "code",
   "execution_count": 42,
   "id": "a37187c5",
   "metadata": {
    "scrolled": true
   },
   "outputs": [
    {
     "data": {
      "text/plain": [
       "140"
      ]
     },
     "execution_count": 42,
     "metadata": {},
     "output_type": "execute_result"
    }
   ],
   "source": [
    "new_balance"
   ]
  },
  {
   "cell_type": "code",
   "execution_count": 43,
   "id": "7b14ccbb",
   "metadata": {
    "scrolled": true
   },
   "outputs": [
    {
     "data": {
      "text/plain": [
       "int"
      ]
     },
     "execution_count": 43,
     "metadata": {},
     "output_type": "execute_result"
    }
   ],
   "source": [
    "type(new_balance)"
   ]
  },
  {
   "cell_type": "code",
   "execution_count": 47,
   "id": "5b2155a0",
   "metadata": {},
   "outputs": [],
   "source": [
    "new_balance = str(new_balance)"
   ]
  },
  {
   "cell_type": "code",
   "execution_count": 45,
   "id": "6ba27d30",
   "metadata": {},
   "outputs": [
    {
     "data": {
      "text/plain": [
       "str"
      ]
     },
     "execution_count": 45,
     "metadata": {},
     "output_type": "execute_result"
    }
   ],
   "source": [
    "type(new_balance)"
   ]
  },
  {
   "cell_type": "code",
   "execution_count": 49,
   "id": "161a0001",
   "metadata": {},
   "outputs": [
    {
     "name": "stdout",
     "output_type": "stream",
     "text": [
      "80\n",
      "140\n"
     ]
    }
   ],
   "source": [
    "\n",
    "\n",
    "with open('current_balance.txt', 'w') as cb:\n",
    "    cb.write(new_balance)\n",
    "    print(current_balance)\n",
    "    print(new_balance)"
   ]
  },
  {
   "cell_type": "code",
   "execution_count": 51,
   "id": "c71114a3",
   "metadata": {},
   "outputs": [
    {
     "name": "stdout",
     "output_type": "stream",
     "text": [
      "200\n",
      "Enter a number: 30\n",
      "230\n"
     ]
    }
   ],
   "source": [
    "\n",
    "# user = input('Enter new numeber: ')\n",
    "\n",
    "with open('current_balance.txt', 'r') as cb:\n",
    "    current_balance = cb.read()\n",
    "    current_balance.isdigit()\n",
    "#     print(current_balance.isdigit())\n",
    "    current_balance = int(current_balance)\n",
    "#     added_debit = cb.write(str(user))\n",
    "#     print(added_debit = cb.write(str(user)))\n",
    "    \n",
    "#     new_debit_balance = current_balance + added_debit\n",
    "#     print(new_debit_balance)\n",
    "    print(int(current_balance))\n",
    "\n",
    "user = int(input('Enter a number: '))\n",
    "\n",
    "new_balance = user + current_balance\n",
    "\n",
    "new_balance = str(new_balance)\n",
    "\n",
    "with open('current_balance.txt', 'w') as cb:\n",
    "    cb.write(new_balance)\n",
    "#     print(current_balance)\n",
    "    print(new_balance)"
   ]
  },
  {
   "cell_type": "code",
   "execution_count": 23,
   "id": "380019bb",
   "metadata": {},
   "outputs": [
    {
     "data": {
      "text/plain": [
       "int"
      ]
     },
     "execution_count": 23,
     "metadata": {},
     "output_type": "execute_result"
    }
   ],
   "source": [
    "type(current_balance)"
   ]
  },
  {
   "cell_type": "code",
   "execution_count": 20,
   "id": "49ffb59d",
   "metadata": {},
   "outputs": [
    {
     "ename": "NameError",
     "evalue": "name 'currente_balance' is not defined",
     "output_type": "error",
     "traceback": [
      "\u001b[0;31m---------------------------------------------------------------------------\u001b[0m",
      "\u001b[0;31mNameError\u001b[0m                                 Traceback (most recent call last)",
      "Input \u001b[0;32mIn [20]\u001b[0m, in \u001b[0;36m<cell line: 1>\u001b[0;34m()\u001b[0m\n\u001b[0;32m----> 1\u001b[0m \u001b[38;5;28mprint\u001b[39m(\u001b[43mcurrente_balance\u001b[49m)\n",
      "\u001b[0;31mNameError\u001b[0m: name 'currente_balance' is not defined"
     ]
    }
   ],
   "source": [
    "print(currente_balance)"
   ]
  },
  {
   "cell_type": "code",
   "execution_count": 14,
   "id": "933f7362",
   "metadata": {},
   "outputs": [
    {
     "name": "stdout",
     "output_type": "stream",
     "text": [
      "0\n"
     ]
    }
   ],
   "source": [
    "debit_file = 'current_balance.txt'\n",
    "sum = 0\n",
    "with open(debit_file) as df:\n",
    "    for n in df:\n",
    "        n = n.strip()\n",
    "        nums = n.split(',')\n",
    "        for ns in nums:\n",
    "            sum = sum + int(ns)\n",
    "print(sum)"
   ]
  },
  {
   "cell_type": "code",
   "execution_count": 15,
   "id": "bd721934",
   "metadata": {},
   "outputs": [
    {
     "ename": "TypeError",
     "evalue": "'int' object is not callable",
     "output_type": "error",
     "traceback": [
      "\u001b[0;31m---------------------------------------------------------------------------\u001b[0m",
      "\u001b[0;31mTypeError\u001b[0m                                 Traceback (most recent call last)",
      "Input \u001b[0;32mIn [15]\u001b[0m, in \u001b[0;36m<cell line: 1>\u001b[0;34m()\u001b[0m\n\u001b[1;32m      1\u001b[0m \u001b[38;5;28;01mwith\u001b[39;00m \u001b[38;5;28mopen\u001b[39m(\u001b[38;5;124m'\u001b[39m\u001b[38;5;124mcurrent_balance.txt\u001b[39m\u001b[38;5;124m'\u001b[39m, \u001b[38;5;124m'\u001b[39m\u001b[38;5;124mr\u001b[39m\u001b[38;5;124m'\u001b[39m) \u001b[38;5;28;01mas\u001b[39;00m cb:\n\u001b[0;32m----> 2\u001b[0m     new_total \u001b[38;5;241m=\u001b[39m \u001b[38;5;28;43msum\u001b[39;49m\u001b[43m(\u001b[49m\u001b[38;5;28;43mmap\u001b[39;49m\u001b[43m(\u001b[49m\u001b[38;5;28;43mint\u001b[39;49m\u001b[43m,\u001b[49m\u001b[43m \u001b[49m\u001b[43mcb\u001b[49m\u001b[43m)\u001b[49m\u001b[43m)\u001b[49m\n\u001b[1;32m      3\u001b[0m     \u001b[38;5;28mprint\u001b[39m(new_total)\n",
      "\u001b[0;31mTypeError\u001b[0m: 'int' object is not callable"
     ]
    }
   ],
   "source": [
    "\n",
    "with open('current_balance.txt', 'r') as cb:\n",
    "    new_total = sum(map(int, cb))\n",
    "    print(new_total)"
   ]
  },
  {
   "cell_type": "code",
   "execution_count": 6,
   "id": "f867bd0d",
   "metadata": {},
   "outputs": [],
   "source": [
    "# Added a new line to the file\n",
    "with open('current_balance.txt', 'w') as cb:\n",
    "    cb.write('50')"
   ]
  },
  {
   "cell_type": "code",
   "execution_count": 2,
   "id": "edf6c0a5",
   "metadata": {},
   "outputs": [
    {
     "ename": "NameError",
     "evalue": "name 'subprocess' is not defined",
     "output_type": "error",
     "traceback": [
      "\u001b[0;31m---------------------------------------------------------------------------\u001b[0m",
      "\u001b[0;31mNameError\u001b[0m                                 Traceback (most recent call last)",
      "Input \u001b[0;32mIn [2]\u001b[0m, in \u001b[0;36m<cell line: 2>\u001b[0;34m()\u001b[0m\n\u001b[1;32m      1\u001b[0m \u001b[38;5;66;03m#open the file in Visual Studio Code\u001b[39;00m\n\u001b[0;32m----> 2\u001b[0m \u001b[43msubprocess\u001b[49m\u001b[38;5;241m.\u001b[39mrun([\u001b[38;5;124m\"\u001b[39m\u001b[38;5;124mcode\u001b[39m\u001b[38;5;124m\"\u001b[39m, \u001b[38;5;124m\"\u001b[39m\u001b[38;5;124mcurrent_balance.txt\u001b[39m\u001b[38;5;124m\"\u001b[39m])\n",
      "\u001b[0;31mNameError\u001b[0m: name 'subprocess' is not defined"
     ]
    }
   ],
   "source": [
    "#open the file in Visual Studio Code\n",
    "subprocess.run([\"code\", \"current_balance.txt\"])"
   ]
  },
  {
   "cell_type": "code",
   "execution_count": null,
   "id": "52b93e88",
   "metadata": {},
   "outputs": [],
   "source": [
    "def exit():\n",
    "    conti_options = (\"y\", \"n\")\n",
    "    main_menu = True\n",
    "\n",
    "    transaction = None\n",
    "    while transaction not in conti_options:\n",
    "        transaction = input(\"Do you want to return to main menu? (y/n): \").lower()\n",
    "        if not transaction == \"y\":\n",
    "            main_menu = False\n",
    "            print('Thank you, have a great day!')"
   ]
  }
 ],
 "metadata": {
  "kernelspec": {
   "display_name": "Python 3 (ipykernel)",
   "language": "python",
   "name": "python3"
  },
  "language_info": {
   "codemirror_mode": {
    "name": "ipython",
    "version": 3
   },
   "file_extension": ".py",
   "mimetype": "text/x-python",
   "name": "python",
   "nbconvert_exporter": "python",
   "pygments_lexer": "ipython3",
   "version": "3.9.13"
  }
 },
 "nbformat": 4,
 "nbformat_minor": 5
}
