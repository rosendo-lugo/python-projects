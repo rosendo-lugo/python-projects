{
 "cells": [
  {
   "cell_type": "code",
   "execution_count": null,
   "id": "96ba8c94",
   "metadata": {},
   "outputs": [],
   "source": [
    "\n",
    "\n",
    "print(\"What would you like to do?\\n1) View current balance\\n\"\n",
    "        \"2) Record a debit (withdraw)\\n3) Record a credit (deposit)\\n4) Exit\\n\")\n",
    "\n",
    "checkbook_options = ('1', '2', 3, 4)\n",
    "user = int(input('Enter a choice: '))\n",
    "\n",
    "while user in checkbook_options:\n",
    "    if user != checkbook_options:\n",
    "        print(\"Your choice is: \", user)\n",
    "        print(\"Invalid choice: \", user)\n",
    "        break\n",
    "    if user == \"1\":\n",
    "        print(\"View current balance\")\n",
    "        print(\"\")\n",
    "        break\n",
    "    elif user == \"2\":\n",
    "        print(\"Record a debit (withdraw)\")\n",
    "        print(\"\")\n",
    "        break\n",
    "    elif user == 3:\n",
    "        print(\"Record a credit (deposit)\")\n",
    "        print(\"\")\n",
    "        break\n",
    "    elif user == 4:\n",
    "        print(\"Exit\")\n",
    "        print(\"\")\n",
    "        break\n"
   ]
  },
  {
   "cell_type": "code",
   "execution_count": null,
   "id": "40d596da",
   "metadata": {},
   "outputs": [],
   "source": [
    "user_choice"
   ]
  },
  {
   "cell_type": "code",
   "execution_count": null,
   "id": "312aeca7",
   "metadata": {},
   "outputs": [],
   "source": [
    "checkbook_options = ('1', '2', '3', '4')\n",
    "\n",
    "def main():\n",
    "    # User account options.\n",
    "    def user_choice():\n",
    "\n",
    "        print(\"What would you like to do?\\n1) View current balance\\n\"\n",
    "        \"2) Record a debit (withdraw)\\n3) Record a credit (deposit)\\n4) Exit\\n\")\n",
    "\n",
    "        user = None\n",
    "        while user in checkbook_options:\n",
    "            user = int(input('Enter a choice: '))\n",
    "        return user\n",
    "\n",
    "    # Find the correct choice\n",
    "    def options():\n",
    "        money = True\n",
    "        while money:\n",
    "            user = user_choice()\n",
    "            if user != checkbook_options:\n",
    "                print(\"Your choice is: \", user)\n",
    "                print(\"Invalid choice: \", user)\n",
    "            if user == '1':\n",
    "                print(\"View current balance\\n\")\n",
    "                break\n",
    "            elif user == '2':\n",
    "                print(\"Record a debit (withdraw)\\n\")\n",
    "                break\n",
    "            elif user == '3':\n",
    "                print(\"Record a credit (deposit)\\n\")\n",
    "                break\n",
    "            elif user == '4':\n",
    "                print(\"Exit\\n\")\n",
    "                break\n",
    "        return money\n",
    "    main()"
   ]
  },
  {
   "cell_type": "code",
   "execution_count": null,
   "id": "d42c17f4",
   "metadata": {},
   "outputs": [],
   "source": []
  },
  {
   "cell_type": "code",
   "execution_count": null,
   "id": "9b738a3e",
   "metadata": {},
   "outputs": [],
   "source": [
    "import random\n",
    "\n",
    "\n",
    "# Game option for the Rock, Paper and Scissors game.\n",
    "game_options = (\"rock\", \"paper\", \"scissors\")\n",
    "game_options_2 = (\"y\", \"n\")\n",
    "continue_playing = True\n",
    "\n",
    "\n",
    "while continue_playing:\n",
    "\n",
    "    def main():\n",
    "        winner()\n",
    "\n",
    "    # User turn to choose one of the three options.\n",
    "    def user_choice():\n",
    "        player = None\n",
    "        while player not in game_options:\n",
    "            player = input('Enter your choice of \"Rock\", \"Paper\", or \"Scissors\": ').lower()\n",
    "        return player\n",
    "\n",
    "    # The computer chooses at random from the three predetermine game options.\n",
    "    def computer_choice():\n",
    "        computer = random.choice(game_options)\n",
    "        print(\"The computer's selected:\", computer)\n",
    "        print('')\n",
    "        return computer\n",
    "\n",
    "    # Find the winner based on the user choice and computer choice\n",
    "    def winner():\n",
    "        champ = True\n",
    "        while champ:\n",
    "            player = user_choice()\n",
    "            computer = computer_choice()\n",
    "            if player == computer:\n",
    "                print(\"It's a draw! Play until there is a Winner!\")\n",
    "            if player == \"rock\" and computer == \"scissors\":\n",
    "                print(\"Rock smashes scissors. You WIN!\")\n",
    "                print(\"\")\n",
    "                break\n",
    "            elif player == \"scissors\" and computer == \"paper\":\n",
    "                print(\"Scissors cuts paper. You WIN!\")\n",
    "                print(\"\")\n",
    "                break\n",
    "            elif player == \"paper\" and computer == \"rock\":\n",
    "                print(\"Paper wraps rock. You WIN!\")\n",
    "                print(\"\")\n",
    "                break\n",
    "            elif computer == \"rock\" and player == \"scissors\":\n",
    "                print(\"Rock smashes scissors. The computer WINS!\")\n",
    "                print(\"\")\n",
    "                break\n",
    "            elif computer == \"scissors\" and player == \"paper\":\n",
    "                print(\"Scissors cuts paper. The computer WINS!\")\n",
    "                print(\"\")\n",
    "                break\n",
    "            elif computer == \"paper\" and player == \"rock\":\n",
    "                print(\"Paper wraps rock. The computer WINS! \")\n",
    "                print(\"\")\n",
    "                break\n",
    "        return champ\n",
    "\n",
    "\n",
    "    # Call the main function\n",
    "    main()\n",
    "    play_again = None\n",
    "    while play_again not in game_options_2:\n",
    "        play_again = input(\"Do you want to play again? (y/n): \").lower()\n",
    "        if not play_again == \"y\":\n",
    "            continue_playing = False\n",
    "            print('Thank you for playing!')"
   ]
  },
  {
   "cell_type": "code",
   "execution_count": null,
   "id": "0ba2dd25",
   "metadata": {},
   "outputs": [],
   "source": [
    "checkbook_options = ('1', '2', '3', '4')\n",
    "\n",
    "def main():\n",
    "    # User account options.\n",
    "    def user_choice():\n",
    "\n",
    "        print(\"What would you like to do?\\n1) View current balance\\n\"\n",
    "        \"2) Record a debit (withdraw)\\n3) Record a credit (deposit)\\n4) Exit\\n\")\n",
    "\n",
    "        user = None\n",
    "        while user in checkbook_options:\n",
    "            user = int(input('Enter a choice: '))\n",
    "        return user\n",
    "\n",
    "    # Find the correct choice\n",
    "    def options():\n",
    "        money = True\n",
    "        while money:\n",
    "            user = user_choice()\n",
    "            if user != checkbook_options:\n",
    "                print(\"Your choice is: \", user)\n",
    "                print(\"Invalid choice: \", user)\n",
    "            if user == '1':\n",
    "                print(\"View current balance\\n\")\n",
    "                break\n",
    "            elif user == '2':\n",
    "                print(\"Record a debit (withdraw)\\n\")\n",
    "                break\n",
    "            elif user == '3':\n",
    "                print(\"Record a credit (deposit)\\n\")\n",
    "                break\n",
    "            elif user == '4':\n",
    "                print(\"Exit\\n\")\n",
    "                break\n",
    "        return money\n",
    "    main()"
   ]
  },
  {
   "cell_type": "code",
   "execution_count": 4,
   "id": "1f401c57",
   "metadata": {},
   "outputs": [
    {
     "name": "stdout",
     "output_type": "stream",
     "text": [
      "What would you like to do?\n",
      "1) View current balance\n",
      "2) Record a debit (withdraw)\n",
      "3) Record a credit (deposit)\n",
      "4) Exit\n",
      "\n",
      "Enter a choice: h\n",
      "\n",
      "Your choice is:  h\n",
      "Invalid choice:  h\n",
      "\n",
      "What would you like to do?\n",
      "1) View current balance\n",
      "2) Record a debit (withdraw)\n",
      "3) Record a credit (deposit)\n",
      "4) Exit\n",
      "\n",
      "Enter a choice: 1\n",
      "\n",
      "Your choice is:  1\n",
      "View current balance\n",
      "\n"
     ]
    }
   ],
   "source": [
    "checkbook_options = ('1', '2', '3', '4')\n",
    "\n",
    "def main():\n",
    "    options()\n",
    "    \n",
    "def user_choice():\n",
    "    print(\"What would you like to do?\\n1) View current balance\\n\"\n",
    "  \"2) Record a debit (withdraw)\\n3) Record a credit (deposit)\\n4) Exit\\n\")\n",
    "    user = input('Enter a choice: ')\n",
    "    print('')\n",
    "    print(\"Your choice is: \", user)\n",
    "        \n",
    "    while user not in checkbook_options:\n",
    "        print(\"Invalid choice: \", user)\n",
    "        print('')\n",
    "#         print(\"What would you like to do?\\n1) View current balance\\n\"\n",
    "#       \"2) Record a debit (withdraw)\\n3) Record a credit (deposit)\\n4) Exit\\n\")\n",
    "        user = input('Enter a choice: ')\n",
    "#         print('')\n",
    "        print(\"\\nYour choice is: \", user)\n",
    "    return user\n",
    "\n",
    "def options():\n",
    "    opt = True\n",
    "    while opt:\n",
    "        user = user_choice()\n",
    "        if user == '1':\n",
    "            print(\"View current balance\\n\")\n",
    "            break\n",
    "        elif user == '2':\n",
    "            print(\"Record a debit (withdraw)\\n\")\n",
    "            break\n",
    "        elif user == '3':\n",
    "            print(\"Record a credit (deposit)\\n\")\n",
    "            break\n",
    "        elif user == '4':\n",
    "            print(\"Exit\\n\")\n",
    "            break\n",
    "    return opt\n",
    "main()\n"
   ]
  },
  {
   "cell_type": "code",
   "execution_count": 4,
   "id": "952c77ba",
   "metadata": {},
   "outputs": [
    {
     "data": {
      "text/plain": [
       "['checkbook-options',\n",
       " 'checkbook-options2.py',\n",
       " 'current_balance.txt',\n",
       " 'main-checkbook-project',\n",
       " 'checkbook-test.ipynb',\n",
       " '.ipynb_checkpoints']"
      ]
     },
     "execution_count": 4,
     "metadata": {},
     "output_type": "execute_result"
    }
   ],
   "source": [
    "# the imports needed for viewing the text file that contains the\n",
    "# current balance\n",
    "\n",
    "import os \n",
    "import subprocess\n",
    "\n",
    "# def view_curt_bal():\n",
    "    \n",
    "os.listdir()"
   ]
  },
  {
   "cell_type": "code",
   "execution_count": 8,
   "id": "249d8433",
   "metadata": {},
   "outputs": [],
   "source": [
    "with open('current_balance', 'w') as cb:\n",
    "    cb.write(str(0))"
   ]
  },
  {
   "cell_type": "code",
   "execution_count": 5,
   "id": "8737ba1c",
   "metadata": {},
   "outputs": [
    {
     "data": {
      "text/plain": [
       "['checkbook-options',\n",
       " 'checkbook-options2.py',\n",
       " 'current_balance.txt',\n",
       " 'main-checkbook-project',\n",
       " 'checkbook-test.ipynb',\n",
       " '.ipynb_checkpoints']"
      ]
     },
     "execution_count": 5,
     "metadata": {},
     "output_type": "execute_result"
    }
   ],
   "source": [
    "os.listdir()"
   ]
  },
  {
   "cell_type": "code",
   "execution_count": 10,
   "id": "a7029671",
   "metadata": {},
   "outputs": [],
   "source": [
    "os.remove('current_balance')"
   ]
  },
  {
   "cell_type": "code",
   "execution_count": 3,
   "id": "818715d3",
   "metadata": {},
   "outputs": [
    {
     "ename": "NameError",
     "evalue": "name 'os' is not defined",
     "output_type": "error",
     "traceback": [
      "\u001b[0;31m---------------------------------------------------------------------------\u001b[0m",
      "\u001b[0;31mNameError\u001b[0m                                 Traceback (most recent call last)",
      "Input \u001b[0;32mIn [3]\u001b[0m, in \u001b[0;36m<cell line: 1>\u001b[0;34m()\u001b[0m\n\u001b[0;32m----> 1\u001b[0m \u001b[43mos\u001b[49m\u001b[38;5;241m.\u001b[39mlistdir()\n",
      "\u001b[0;31mNameError\u001b[0m: name 'os' is not defined"
     ]
    }
   ],
   "source": [
    "os.listdir()"
   ]
  },
  {
   "cell_type": "code",
   "execution_count": 6,
   "id": "14d81ff3",
   "metadata": {},
   "outputs": [],
   "source": [
    "with open('current_balance.txt', 'w') as cb:\n",
    "    cb.write(str(0))"
   ]
  },
  {
   "cell_type": "code",
   "execution_count": 4,
   "id": "59cc96c4",
   "metadata": {},
   "outputs": [
    {
     "data": {
      "text/plain": [
       "['checkbook-options',\n",
       " 'checkbook-options2.py',\n",
       " 'current_balance.txt',\n",
       " 'main-checkbook-project',\n",
       " 'checkbook-test.ipynb',\n",
       " '.ipynb_checkpoints']"
      ]
     },
     "execution_count": 4,
     "metadata": {},
     "output_type": "execute_result"
    }
   ],
   "source": [
    "os.listdir()"
   ]
  },
  {
   "cell_type": "code",
   "execution_count": 5,
   "id": "03476502",
   "metadata": {},
   "outputs": [
    {
     "data": {
      "text/plain": [
       "CompletedProcess(args=['code', 'current_balance.txt'], returncode=0)"
      ]
     },
     "execution_count": 5,
     "metadata": {},
     "output_type": "execute_result"
    }
   ],
   "source": [
    "subprocess.run([\"code\", \"current_balance.txt\"])"
   ]
  },
  {
   "cell_type": "markdown",
   "id": "bb89ec15",
   "metadata": {},
   "source": [
    "#### View current balance"
   ]
  },
  {
   "cell_type": "code",
   "execution_count": 7,
   "id": "9e9bb68b",
   "metadata": {},
   "outputs": [
    {
     "name": "stdout",
     "output_type": "stream",
     "text": [
      "0\n"
     ]
    }
   ],
   "source": [
    "with open('current_balance.txt') as cb:\n",
    "    current_balance = cb.read()\n",
    "    print(current_balance)"
   ]
  },
  {
   "cell_type": "code",
   "execution_count": null,
   "id": "74dd874e",
   "metadata": {},
   "outputs": [
    {
     "name": "stdout",
     "output_type": "stream",
     "text": [
      "What would you like to do?\n",
      "1) View current balance\n",
      "2) Record a debit (withdraw)\n",
      "3) Record a credit (deposit)\n",
      "4) Exit\n",
      "\n",
      "Enter a choice: 1\n",
      "\n",
      "Your choice is:  1\n",
      "\n",
      "Current balance\n",
      "\n",
      "0\n",
      "What would you like to do?\n",
      "1) View current balance\n",
      "2) Record a debit (withdraw)\n",
      "3) Record a credit (deposit)\n",
      "4) Exit\n",
      "\n"
     ]
    }
   ],
   "source": [
    "import os \n",
    "import subprocess\n",
    "\n",
    "\n",
    "checkbook_options = ('1', '2', '3', '4')\n",
    "\n",
    "def main():\n",
    "    options()\n",
    "    \n",
    "def user_choice():\n",
    "    print(\"What would you like to do?\\n1) View current balance\\n\"\n",
    "  \"2) Record a debit (withdraw)\\n3) Record a credit (deposit)\\n4) Exit\\n\")\n",
    "    user = input('Enter a choice: ')\n",
    "    print('')\n",
    "    print(\"Your choice is: \", user)\n",
    "\n",
    "    while user not in checkbook_options:\n",
    "        print(\"Invalid choice: \", user)\n",
    "        print('')\n",
    "#         print(\"What would you like to do?\\n1) View current balance\\n\"\n",
    "#       \"2) Record a debit (withdraw)\\n3) Record a credit (deposit)\\n4) Exit\\n\")\n",
    "        user = input('Enter a choice: ')\n",
    "#         print('')\n",
    "        print(\"\\nYour choice is: \", user)\n",
    "    return user\n",
    "\n",
    "def options():\n",
    "    opt = True\n",
    "    while opt:\n",
    "        user = user_choice()\n",
    "        if user == '1':\n",
    "            print(\"\\nCurrent balance\\n\")\n",
    "            return view_curt_bal()\n",
    "        elif user == '2':\n",
    "            print(\"Record a debit (withdraw)\\n\")\n",
    "            break\n",
    "        elif user == '3':\n",
    "            print(\"Record a credit (deposit)\\n\")\n",
    "            break\n",
    "        elif user == '4':\n",
    "            print(\"Exit\\n\")\n",
    "            break\n",
    "    return opt\n",
    "\n",
    "def view_curt_bal():\n",
    "    with open('current_balance.txt') as cb:\n",
    "        current_balance = cb.read()\n",
    "        print(current_balance)\n",
    "        return user_choice()\n",
    "    \n",
    "main()"
   ]
  },
  {
   "cell_type": "code",
   "execution_count": null,
   "id": "af2667d1",
   "metadata": {},
   "outputs": [
    {
     "name": "stdout",
     "output_type": "stream",
     "text": [
      "\n",
      "What would you like to do?\n",
      "1) View current balance\n",
      "2) Record a debit (withdraw)\n",
      "3) Record a credit (deposit)\n",
      "4) Exit\n",
      "\n",
      "Enter a choice: 1\n",
      "\n",
      "Your choice is:  1\n",
      "\n",
      "Current balance\n",
      "0\n",
      "Do you want to return to main menu? (y/n): y\n",
      "Do you want to return to main menu? (y/n): y\n",
      "\n",
      "What would you like to do?\n",
      "1) View current balance\n",
      "2) Record a debit (withdraw)\n",
      "3) Record a credit (deposit)\n",
      "4) Exit\n",
      "\n"
     ]
    }
   ],
   "source": [
    "import os \n",
    "import subprocess\n",
    "\n",
    "\n",
    "checkbook_options = ('1', '2', '3', '4')\n",
    "conti_options = (\"y\", \"n\")\n",
    "main_menu = True\n",
    "\n",
    "while main_menu:\n",
    "\n",
    "    def main():\n",
    "        options()\n",
    "        another_trans()\n",
    "\n",
    "    def user_choice():\n",
    "        print(\"\\nWhat would you like to do?\\n1) View current balance\\n\"\n",
    "      \"2) Record a debit (withdraw)\\n3) Record a credit (deposit)\\n4) Exit\\n\")\n",
    "        user = input('Enter a choice: ')\n",
    "        print('')\n",
    "        print(\"Your choice is: \", user)\n",
    "\n",
    "        while user not in checkbook_options:\n",
    "            print(\"Invalid choice: \", user)\n",
    "            print('')\n",
    "    #         print(\"What would you like to do?\\n1) View current balance\\n\"\n",
    "    #       \"2) Record a debit (withdraw)\\n3) Record a credit (deposit)\\n4) Exit\\n\")\n",
    "            user = input('Enter a choice: ')\n",
    "    #         print('')\n",
    "            print(\"\\nYour choice is: \", user)\n",
    "        return user\n",
    "\n",
    "    def options():\n",
    "        opt = True\n",
    "        while opt:\n",
    "            user = user_choice()\n",
    "            if user == '1':\n",
    "                print(\"\\nCurrent balance\")\n",
    "                return view_curt_bal()\n",
    "            elif user == '2':\n",
    "                print(\"Record a debit (withdraw)\\n\")\n",
    "                break\n",
    "            elif user == '3':\n",
    "                print(\"Record a credit (deposit)\\n\")\n",
    "                break\n",
    "            elif user == '4':\n",
    "                print(\"Exit\\n\")\n",
    "                break\n",
    "        return opt\n",
    "\n",
    "    def view_curt_bal():\n",
    "        with open('current_balance.txt') as cb:\n",
    "            current_balance = cb.read()\n",
    "            print(current_balance)\n",
    "        return another_trans()\n",
    "    \n",
    "    main()\n",
    "    def another_trans():\n",
    "        transaction = None\n",
    "        while transaction not in conti_options:\n",
    "            transaction = input(\"Do you want to return to main menu? (y/n): \\n\").lower()\n",
    "            if not transaction == \"y\":\n",
    "                main_menu = False\n",
    "                print('Thank you, have a great day!')\n",
    "                "
   ]
  },
  {
   "cell_type": "code",
   "execution_count": null,
   "id": "56ccebb2",
   "metadata": {},
   "outputs": [],
   "source": []
  },
  {
   "cell_type": "code",
   "execution_count": 2,
   "id": "10b0d7a7",
   "metadata": {
    "scrolled": true
   },
   "outputs": [
    {
     "name": "stdout",
     "output_type": "stream",
     "text": [
      "What would you like to do?\n",
      "1) View current balance\n",
      "2) Record a debit (withdraw)\n",
      "3) Record a credit (deposit)\n",
      "4) Exit\n",
      "\n",
      "Enter a choice: 1\n",
      "\n",
      "Your choice is:  1\n",
      "\n",
      "Current balance\n",
      "\n",
      "0\n",
      "What would you like to do?\n",
      "1) View current balance\n",
      "2) Record a debit (withdraw)\n",
      "3) Record a credit (deposit)\n",
      "4) Exit\n",
      "\n",
      "Enter a choice: 1\n",
      "\n",
      "Your choice is:  1\n"
     ]
    },
    {
     "data": {
      "text/plain": [
       "'1'"
      ]
     },
     "execution_count": 2,
     "metadata": {},
     "output_type": "execute_result"
    }
   ],
   "source": [
    "options()"
   ]
  },
  {
   "cell_type": "code",
   "execution_count": 5,
   "id": "6c96ea69",
   "metadata": {},
   "outputs": [],
   "source": [
    "def another_trans():\n",
    "    conti_options = (\"y\", \"n\")\n",
    "    main_menu = True\n",
    "\n",
    "    transaction = None\n",
    "    while transaction not in conti_options:\n",
    "        transaction = input(\"Do you want to return to main menu? (y/n): \").lower()\n",
    "        if not transaction == \"y\":\n",
    "            main_menu = False\n",
    "            print('Thank you, have a great day!')"
   ]
  },
  {
   "cell_type": "code",
   "execution_count": null,
   "id": "faa476ac",
   "metadata": {},
   "outputs": [],
   "source": [
    "import os \n",
    "import subprocess\n",
    "\n",
    "\n",
    "checkbook_options = ('1', '2', '3', '4')\n",
    "def user_choice():\n",
    "    print(\"\\nWhat would you like to do?\\n1) View current balance\\n\"\n",
    "  \"2) Record a debit (withdraw)\\n3) Record a credit (deposit)\\n4) Exit\\n\")\n",
    "    user = input('Enter a choice: ')\n",
    "    print('')\n",
    "    print(\"Your choice is: \", user)\n",
    "\n",
    "    while user not in checkbook_options:\n",
    "        print(\"Invalid choice: \", user)\n",
    "        print('')\n",
    "#         print(\"What would you like to do?\\n1) View current balance\\n\"\n",
    "#       \"2) Record a debit (withdraw)\\n3) Record a credit (deposit)\\n4) Exit\\n\")\n",
    "        user = input('Enter a choice: ')\n",
    "#         print('')\n",
    "        print(\"\\nYour choice is: \", user)\n",
    "    return user\n",
    "\n",
    "def view_curt_bal():\n",
    "    with open('current_balance.txt') as cb:\n",
    "        current_balance = cb.read()\n",
    "        print(current_balance)\n",
    "\n",
    "\n",
    "while main_menu:\n",
    "    user = user_choice()\n",
    "    if user == '1':\n",
    "        print(\"\\nCurrent balance\")\n",
    "        view_curt_bal()\n",
    "    elif user == '2':\n",
    "        print(\"Record a debit (withdraw)\\n\")\n",
    "        break\n",
    "    elif user == '3':\n",
    "        print(\"Record a credit (deposit)\\n\")\n",
    "        break\n",
    "    elif user == '4':\n",
    "        print(\"Exit\\n\")\n",
    "        break\n",
    "\n",
    "\n",
    "\n",
    "    \n",
    "\n"
   ]
  },
  {
   "cell_type": "code",
   "execution_count": null,
   "id": "20101124",
   "metadata": {},
   "outputs": [],
   "source": [
    "def debit():\n",
    "    with open('current_balance.txt') as cb:\n",
    "        current_balance = cb.read()\n",
    "        new_debit_balance = current_balance"
   ]
  },
  {
   "cell_type": "code",
   "execution_count": 8,
   "id": "ba089c2c",
   "metadata": {},
   "outputs": [
    {
     "name": "stdout",
     "output_type": "stream",
     "text": [
      "0\n"
     ]
    }
   ],
   "source": [
    "# this function is to just view what's in the text file\n",
    "\n",
    "import os \n",
    "import subprocess\n",
    "\n",
    "\n",
    "with open('current_balance.txt') as cb:\n",
    "    current_balance = cb.read()\n",
    "    print(current_balance)"
   ]
  },
  {
   "cell_type": "code",
   "execution_count": 12,
   "id": "533a563d",
   "metadata": {},
   "outputs": [
    {
     "ename": "UnsupportedOperation",
     "evalue": "not readable",
     "output_type": "error",
     "traceback": [
      "\u001b[0;31m---------------------------------------------------------------------------\u001b[0m",
      "\u001b[0;31mUnsupportedOperation\u001b[0m                      Traceback (most recent call last)",
      "Input \u001b[0;32mIn [12]\u001b[0m, in \u001b[0;36m<cell line: 1>\u001b[0;34m()\u001b[0m\n\u001b[1;32m      1\u001b[0m \u001b[38;5;28;01mwith\u001b[39;00m \u001b[38;5;28mopen\u001b[39m(\u001b[38;5;124m'\u001b[39m\u001b[38;5;124mcurrent_balance.txt\u001b[39m\u001b[38;5;124m'\u001b[39m, \u001b[38;5;124m'\u001b[39m\u001b[38;5;124mw\u001b[39m\u001b[38;5;124m'\u001b[39m) \u001b[38;5;28;01mas\u001b[39;00m cb:\n\u001b[0;32m----> 2\u001b[0m     current_balance \u001b[38;5;241m=\u001b[39m \u001b[43mcb\u001b[49m\u001b[38;5;241;43m.\u001b[39;49m\u001b[43mread\u001b[49m\u001b[43m(\u001b[49m\u001b[43m)\u001b[49m\n\u001b[1;32m      3\u001b[0m \u001b[38;5;66;03m#     added_debit = cb.write(str(50))\u001b[39;00m\n\u001b[1;32m      4\u001b[0m \u001b[38;5;66;03m#     new_debit_balance = current_balance + added_debit\u001b[39;00m\n\u001b[1;32m      5\u001b[0m \u001b[38;5;66;03m#     print(new_debit_balance)\u001b[39;00m\n\u001b[1;32m      6\u001b[0m     \u001b[38;5;28mprint\u001b[39m(current_balance)\n",
      "\u001b[0;31mUnsupportedOperation\u001b[0m: not readable"
     ]
    }
   ],
   "source": [
    "with open('current_balance.txt', 'w') as cb:\n",
    "    current_balance = cb.read()\n",
    "#     added_debit = cb.write(str(50))\n",
    "#     new_debit_balance = current_balance + added_debit\n",
    "#     print(new_debit_balance)\n",
    "    print(current_balance)"
   ]
  },
  {
   "cell_type": "code",
   "execution_count": 14,
   "id": "99c11531",
   "metadata": {},
   "outputs": [
    {
     "name": "stdout",
     "output_type": "stream",
     "text": [
      "0\n"
     ]
    }
   ],
   "source": [
    "debit_file = 'current_balance.txt'\n",
    "sum = 0\n",
    "with open(debit_file) as df:\n",
    "    for n in df:\n",
    "        n = n.strip()\n",
    "        nums = n.split(',')\n",
    "        for ns in nums:\n",
    "            sum = sum + int(ns)\n",
    "print(sum)"
   ]
  },
  {
   "cell_type": "code",
   "execution_count": 15,
   "id": "1989bb3d",
   "metadata": {},
   "outputs": [
    {
     "ename": "TypeError",
     "evalue": "'int' object is not callable",
     "output_type": "error",
     "traceback": [
      "\u001b[0;31m---------------------------------------------------------------------------\u001b[0m",
      "\u001b[0;31mTypeError\u001b[0m                                 Traceback (most recent call last)",
      "Input \u001b[0;32mIn [15]\u001b[0m, in \u001b[0;36m<cell line: 1>\u001b[0;34m()\u001b[0m\n\u001b[1;32m      1\u001b[0m \u001b[38;5;28;01mwith\u001b[39;00m \u001b[38;5;28mopen\u001b[39m(\u001b[38;5;124m'\u001b[39m\u001b[38;5;124mcurrent_balance.txt\u001b[39m\u001b[38;5;124m'\u001b[39m, \u001b[38;5;124m'\u001b[39m\u001b[38;5;124mr\u001b[39m\u001b[38;5;124m'\u001b[39m) \u001b[38;5;28;01mas\u001b[39;00m cb:\n\u001b[0;32m----> 2\u001b[0m     new_total \u001b[38;5;241m=\u001b[39m \u001b[38;5;28;43msum\u001b[39;49m\u001b[43m(\u001b[49m\u001b[38;5;28;43mmap\u001b[39;49m\u001b[43m(\u001b[49m\u001b[38;5;28;43mint\u001b[39;49m\u001b[43m,\u001b[49m\u001b[43m \u001b[49m\u001b[43mcb\u001b[49m\u001b[43m)\u001b[49m\u001b[43m)\u001b[49m\n\u001b[1;32m      3\u001b[0m     \u001b[38;5;28mprint\u001b[39m(new_total)\n",
      "\u001b[0;31mTypeError\u001b[0m: 'int' object is not callable"
     ]
    }
   ],
   "source": [
    "\n",
    "with open('current_balance.txt', 'r') as cb:\n",
    "    new_total = sum(map(int, cb))\n",
    "    print(new_total)"
   ]
  },
  {
   "cell_type": "code",
   "execution_count": null,
   "id": "02705ee0",
   "metadata": {},
   "outputs": [],
   "source": [
    "# Added a new line to the file\n",
    "with open('current_balance.txt', 'w') as cb:\n",
    "    cb.write('\\n100')"
   ]
  },
  {
   "cell_type": "code",
   "execution_count": null,
   "id": "e343a208",
   "metadata": {},
   "outputs": [],
   "source": [
    "#open the file in Visual Studio Code\n",
    "subprocess.run([\"code\", \"current_balance.txt\"])"
   ]
  },
  {
   "cell_type": "code",
   "execution_count": null,
   "id": "ce86dfa3",
   "metadata": {},
   "outputs": [],
   "source": []
  }
 ],
 "metadata": {
  "kernelspec": {
   "display_name": "Python 3 (ipykernel)",
   "language": "python",
   "name": "python3"
  },
  "language_info": {
   "codemirror_mode": {
    "name": "ipython",
    "version": 3
   },
   "file_extension": ".py",
   "mimetype": "text/x-python",
   "name": "python",
   "nbconvert_exporter": "python",
   "pygments_lexer": "ipython3",
   "version": "3.9.13"
  }
 },
 "nbformat": 4,
 "nbformat_minor": 5
}
